{
 "cells": [
  {
   "cell_type": "code",
   "execution_count": 109,
   "id": "0832febc",
   "metadata": {},
   "outputs": [],
   "source": [
    "import numpy as np\n",
    "import pandas as pd\n",
    "import matplotlib.pyplot as plt\n",
    "import seaborn as sns\n",
    "import re\n",
    "from sklearn.model_selection import train_test_split, cross_val_score, GridSearchCV\n",
    "from sklearn.linear_model import LogisticRegression\n",
    "from sklearn.ensemble import RandomForestClassifier\n",
    "from sklearn.tree import DecisionTreeClassifier, export_graphviz\n",
    "import sklearn.tree as tree\n",
    "from sklearn.metrics import roc_curve, auc, confusion_matrix\n",
    "from sklearn import metrics\n",
    "from subprocess import call\n",
    "from IPython.display import Image\n",
    "\n",
    "import warnings\n",
    "warnings.filterwarnings('ignore')"
   ]
  },
  {
   "cell_type": "code",
   "execution_count": 110,
   "id": "4fdea782",
   "metadata": {},
   "outputs": [],
   "source": [
    "#Reading file\n",
    "titanic=pd.read_csv('train.csv')"
   ]
  },
  {
   "cell_type": "code",
   "execution_count": 111,
   "id": "5bb5604c",
   "metadata": {},
   "outputs": [
    {
     "name": "stdout",
     "output_type": "stream",
     "text": [
      "       PassengerId    Survived      Pclass         Age       SibSp  \\\n",
      "count   891.000000  891.000000  891.000000  714.000000  891.000000   \n",
      "mean    446.000000    0.383838    2.308642   29.699118    0.523008   \n",
      "std     257.353842    0.486592    0.836071   14.526497    1.102743   \n",
      "min       1.000000    0.000000    1.000000    0.420000    0.000000   \n",
      "25%     223.500000    0.000000    2.000000   20.125000    0.000000   \n",
      "50%     446.000000    0.000000    3.000000   28.000000    0.000000   \n",
      "75%     668.500000    1.000000    3.000000   38.000000    1.000000   \n",
      "max     891.000000    1.000000    3.000000   80.000000    8.000000   \n",
      "\n",
      "            Parch        Fare  \n",
      "count  891.000000  891.000000  \n",
      "mean     0.381594   32.204208  \n",
      "std      0.806057   49.693429  \n",
      "min      0.000000    0.000000  \n",
      "25%      0.000000    7.910400  \n",
      "50%      0.000000   14.454200  \n",
      "75%      0.000000   31.000000  \n",
      "max      6.000000  512.329200  \n",
      "<class 'pandas.core.frame.DataFrame'>\n",
      "RangeIndex: 891 entries, 0 to 890\n",
      "Data columns (total 12 columns):\n",
      " #   Column       Non-Null Count  Dtype  \n",
      "---  ------       --------------  -----  \n",
      " 0   PassengerId  891 non-null    int64  \n",
      " 1   Survived     891 non-null    int64  \n",
      " 2   Pclass       891 non-null    int64  \n",
      " 3   Name         891 non-null    object \n",
      " 4   Sex          891 non-null    object \n",
      " 5   Age          714 non-null    float64\n",
      " 6   SibSp        891 non-null    int64  \n",
      " 7   Parch        891 non-null    int64  \n",
      " 8   Ticket       891 non-null    object \n",
      " 9   Fare         891 non-null    float64\n",
      " 10  Cabin        204 non-null    object \n",
      " 11  Embarked     889 non-null    object \n",
      "dtypes: float64(2), int64(5), object(5)\n",
      "memory usage: 83.7+ KB\n",
      "None\n"
     ]
    }
   ],
   "source": [
    "#Inspecting data\n",
    "print(titanic.describe())\n",
    "print(titanic.info())"
   ]
  },
  {
   "cell_type": "markdown",
   "id": "d3414130",
   "metadata": {},
   "source": [
    "### DATA CLEANING"
   ]
  },
  {
   "cell_type": "code",
   "execution_count": 112,
   "id": "9fccadef",
   "metadata": {},
   "outputs": [],
   "source": [
    "#Filling nans in age column with mean age of people from the same sex and Pclass\n",
    "grouped=titanic.groupby(['Sex', 'Pclass'])\n",
    "def cleaning(group):\n",
    "    return group.fillna(group.mean())\n",
    "titanic['Age']=grouped['Age'].transform(cleaning)"
   ]
  },
  {
   "cell_type": "code",
   "execution_count": 113,
   "id": "d48e6be2",
   "metadata": {},
   "outputs": [
    {
     "name": "stdout",
     "output_type": "stream",
     "text": [
      "S    644\n",
      "C    168\n",
      "Q     77\n",
      "Name: Embarked, dtype: int64\n"
     ]
    }
   ],
   "source": [
    "#Filling nans values in embarked column with the most frequent value\n",
    "print(titanic['Embarked'].value_counts())\n",
    "titanic['Embarked']=titanic['Embarked'].fillna('S')"
   ]
  },
  {
   "cell_type": "code",
   "execution_count": 114,
   "id": "c6832938",
   "metadata": {},
   "outputs": [],
   "source": [
    "#Dropping unnecessary columns - PassengerID, ticket and cabin\n",
    "titanic.drop(['PassengerId', 'Ticket', 'Cabin'], axis=1, inplace=True)"
   ]
  },
  {
   "cell_type": "markdown",
   "id": "486a2d14",
   "metadata": {},
   "source": [
    "### FEATURE ENGINEERING"
   ]
  },
  {
   "cell_type": "code",
   "execution_count": 115,
   "id": "03cd2f66",
   "metadata": {},
   "outputs": [],
   "source": [
    "#Adding column with information about family size\n",
    "titanic['FamilySize']= titanic['SibSp']+titanic['Parch']+1"
   ]
  },
  {
   "cell_type": "code",
   "execution_count": 116,
   "id": "1d1cbd37",
   "metadata": {},
   "outputs": [],
   "source": [
    "#Adding column IsAlone: 0 - travelling with family, 1 - travelling alone\n",
    "titanic['IsAlone']=1\n",
    "titanic['IsAlone'].loc[titanic['FamilySize']>1]=0"
   ]
  },
  {
   "cell_type": "code",
   "execution_count": 117,
   "id": "8df4edca",
   "metadata": {},
   "outputs": [],
   "source": [
    "#Extracting titles from name column and creating column Title\n",
    "titanic['Title']=titanic['Name'].str.extract(' ([A-Za-z]+)\\.', expand=False)\n",
    "titanic['Title'].replace({'Ms':'Miss', 'Mlle':'Miss', 'Mme':'Mrs'}, inplace=True)\n",
    "titanic['Title'].replace(['Dr', 'Rev', 'Col', 'Major', 'Jonkheer', 'Countess', 'Lady', 'Don', 'Capt', 'Sir'], 'Special', inplace=True)"
   ]
  },
  {
   "cell_type": "code",
   "execution_count": 118,
   "id": "9c8a7f05",
   "metadata": {},
   "outputs": [],
   "source": [
    "#Creating column with age group\n",
    "titanic['GroupAge']=pd.cut(titanic['Age'], 4, labels=False)"
   ]
  },
  {
   "cell_type": "code",
   "execution_count": 119,
   "id": "49a7dfbc",
   "metadata": {},
   "outputs": [],
   "source": [
    "#Creating column with fare group\n",
    "titanic['GroupFare']=pd.qcut(titanic['Fare'],4, labels=False)"
   ]
  },
  {
   "cell_type": "code",
   "execution_count": 120,
   "id": "2da80658",
   "metadata": {},
   "outputs": [],
   "source": [
    "#Dropping unnecessary columns\n",
    "titanic.drop(['FamilySize', 'Name', 'Age', 'SibSp', 'Parch', 'Fare'], axis=1, inplace=True)"
   ]
  },
  {
   "cell_type": "code",
   "execution_count": 121,
   "id": "904b9cfd",
   "metadata": {},
   "outputs": [],
   "source": [
    "#Creating dummy variables for categorical columns\n",
    "titanic=pd.get_dummies(titanic, columns=['Pclass', 'Sex', 'Embarked', 'Title'], drop_first=True)"
   ]
  },
  {
   "cell_type": "code",
   "execution_count": 122,
   "id": "f855d53c",
   "metadata": {},
   "outputs": [
    {
     "name": "stdout",
     "output_type": "stream",
     "text": [
      "   Survived  IsAlone  GroupAge  GroupFare  Pclass_2  Pclass_3  Sex_male  \\\n",
      "0         0        0         1          0         0         1         1   \n",
      "1         1        0         1          3         0         0         0   \n",
      "2         1        1         1          1         0         1         0   \n",
      "3         1        0         1          3         0         0         0   \n",
      "4         0        1         1          1         0         1         1   \n",
      "\n",
      "   Embarked_Q  Embarked_S  Title_Miss  Title_Mr  Title_Mrs  Title_Special  \n",
      "0           0           1           0         1          0              0  \n",
      "1           0           0           0         0          1              0  \n",
      "2           0           1           1         0          0              0  \n",
      "3           0           1           0         0          1              0  \n",
      "4           0           1           0         1          0              0  \n",
      "         Survived     IsAlone    GroupAge   GroupFare    Pclass_2    Pclass_3  \\\n",
      "count  891.000000  891.000000  891.000000  891.000000  891.000000  891.000000   \n",
      "mean     0.383838    0.602694    1.015713    1.497194    0.206510    0.551066   \n",
      "std      0.486592    0.489615    0.683497    1.118156    0.405028    0.497665   \n",
      "min      0.000000    0.000000    0.000000    0.000000    0.000000    0.000000   \n",
      "25%      0.000000    0.000000    1.000000    0.500000    0.000000    0.000000   \n",
      "50%      0.000000    1.000000    1.000000    1.000000    0.000000    1.000000   \n",
      "75%      1.000000    1.000000    1.000000    2.000000    0.000000    1.000000   \n",
      "max      1.000000    1.000000    3.000000    3.000000    1.000000    1.000000   \n",
      "\n",
      "         Sex_male  Embarked_Q  Embarked_S  Title_Miss    Title_Mr   Title_Mrs  \\\n",
      "count  891.000000  891.000000  891.000000  891.000000  891.000000  891.000000   \n",
      "mean     0.647587    0.086420    0.725028    0.207632    0.580247    0.141414   \n",
      "std      0.477990    0.281141    0.446751    0.405840    0.493796    0.348644   \n",
      "min      0.000000    0.000000    0.000000    0.000000    0.000000    0.000000   \n",
      "25%      0.000000    0.000000    0.000000    0.000000    0.000000    0.000000   \n",
      "50%      1.000000    0.000000    1.000000    0.000000    1.000000    0.000000   \n",
      "75%      1.000000    0.000000    1.000000    0.000000    1.000000    0.000000   \n",
      "max      1.000000    1.000000    1.000000    1.000000    1.000000    1.000000   \n",
      "\n",
      "       Title_Special  \n",
      "count     891.000000  \n",
      "mean        0.025814  \n",
      "std         0.158668  \n",
      "min         0.000000  \n",
      "25%         0.000000  \n",
      "50%         0.000000  \n",
      "75%         0.000000  \n",
      "max         1.000000  \n",
      "<class 'pandas.core.frame.DataFrame'>\n",
      "RangeIndex: 891 entries, 0 to 890\n",
      "Data columns (total 13 columns):\n",
      " #   Column         Non-Null Count  Dtype\n",
      "---  ------         --------------  -----\n",
      " 0   Survived       891 non-null    int64\n",
      " 1   IsAlone        891 non-null    int64\n",
      " 2   GroupAge       891 non-null    int64\n",
      " 3   GroupFare      891 non-null    int64\n",
      " 4   Pclass_2       891 non-null    uint8\n",
      " 5   Pclass_3       891 non-null    uint8\n",
      " 6   Sex_male       891 non-null    uint8\n",
      " 7   Embarked_Q     891 non-null    uint8\n",
      " 8   Embarked_S     891 non-null    uint8\n",
      " 9   Title_Miss     891 non-null    uint8\n",
      " 10  Title_Mr       891 non-null    uint8\n",
      " 11  Title_Mrs      891 non-null    uint8\n",
      " 12  Title_Special  891 non-null    uint8\n",
      "dtypes: int64(4), uint8(9)\n",
      "memory usage: 35.8 KB\n",
      "None\n"
     ]
    }
   ],
   "source": [
    "#Inspecting data\n",
    "print(titanic.head())\n",
    "print(titanic.describe())\n",
    "print(titanic.info())"
   ]
  },
  {
   "cell_type": "markdown",
   "id": "4f2fa4c4",
   "metadata": {},
   "source": [
    "### SPLITTING DATASET INTO TRAIN AND TEST"
   ]
  },
  {
   "cell_type": "code",
   "execution_count": 123,
   "id": "fc5afd44",
   "metadata": {},
   "outputs": [],
   "source": [
    "#Extract feature columns and target column\n",
    "X=titanic.drop('Survived', axis=1)\n",
    "y=titanic['Survived']"
   ]
  },
  {
   "cell_type": "code",
   "execution_count": 124,
   "id": "90836b8a",
   "metadata": {},
   "outputs": [],
   "source": [
    "#split dataset to train and test sample\n",
    "X_train, X_test, y_train, y_test=train_test_split(X,y, test_size=0.2, random_state=42)"
   ]
  },
  {
   "cell_type": "markdown",
   "id": "e24ca88d",
   "metadata": {},
   "source": [
    "### BUILDING AND EVALUATING DECISION TREES"
   ]
  },
  {
   "cell_type": "code",
   "execution_count": 125,
   "id": "b4026b1f",
   "metadata": {},
   "outputs": [],
   "source": [
    "#function which makes prediction on given model and return auc score\n",
    "def prediction_auc(X, y_true):\n",
    "    y_pred=decisiontree.predict(X)\n",
    "    false_positive_rate, true_positive_rate, thresholds = roc_curve(y_true, y_pred)\n",
    "    result = auc(false_positive_rate, true_positive_rate)\n",
    "    return result\n",
    "\n",
    "#plotting results for train and test data depending on teste variable\n",
    "def plotting(x, x_name, list_auc_train, list_auc_test):\n",
    "    plt.plot(x, list_auc_train, label='train')    \n",
    "    plt.plot(x, list_auc_test, label='test')\n",
    "    plt.legend()\n",
    "    plt.xlabel(x_name)\n",
    "    plt.ylabel('AUC score')\n",
    "    plt.show()\n",
    "\n",
    "#function which return image of tree's structure\n",
    "def visualizing_tree(tree, name):\n",
    "    export_graphviz(tree, out_file='tree.dot',feature_names = X_train.columns.tolist(), class_names=['Not Survived', 'Survived'], rounded = True, proportion = False, precision = 2, filled = True)\n",
    "    call(['dot', '-Tpng', 'tree.dot', '-o', name, '-Gdpi=600'])\n",
    "    return Image(filename = name)"
   ]
  },
  {
   "cell_type": "markdown",
   "id": "a5ad5b19",
   "metadata": {},
   "source": [
    "#### . TUNING MAX DEPTH"
   ]
  },
  {
   "cell_type": "code",
   "execution_count": 126,
   "id": "a620a86b",
   "metadata": {},
   "outputs": [
    {
     "data": {
      "image/png": "[encoded data removed]",
      "text/plain": [
       "<Figure size 432x288 with 1 Axes>"
      ]
     },
     "metadata": {
      "needs_background": "light"
     },
     "output_type": "display_data"
    }
   ],
   "source": [
    "max_depths=range(1,31) #creating list of values to check\n",
    "\n",
    "list_auc_train=[] #list to store results for train dataset \n",
    "list_auc_test=[] #list to store results for test dataset\n",
    "\n",
    "#creating model and check result for each value of max depth\n",
    "for max_depth in max_depths:\n",
    "    decisiontree=DecisionTreeClassifier(max_depth=max_depth)\n",
    "    decisiontree.fit(X_train,y_train)\n",
    "    \n",
    "    auc_train=prediction_auc(X_train,y_train)\n",
    "    list_auc_train.append(auc_train)\n",
    "    \n",
    "    auc_test=prediction_auc(X_test,y_test)\n",
    "    list_auc_test.append(auc_test)\n",
    "\n",
    "#plotting results    \n",
    "plotting(max_depths, 'max depth', list_auc_train, list_auc_test)"
   ]
  },
  {
   "cell_type": "code",
   "execution_count": 127,
   "id": "55ea67fb",
   "metadata": {},
   "outputs": [
    {
     "name": "stdout",
     "output_type": "stream",
     "text": [
      "AUC score:  0.7942084942084942\n"
     ]
    }
   ],
   "source": [
    "#buliding tree with max depth=4\n",
    "decisiontree_depth_4=DecisionTreeClassifier(max_depth=4)\n",
    "decisiontree_depth_4.fit(X_train,y_train)\n",
    "y_pred=decisiontree_depth_4.predict(X_test)\n",
    "false_positive_rate, true_positive_rate, thresholds = roc_curve(y_test, y_pred)\n",
    "result = auc(false_positive_rate, true_positive_rate)\n",
    "print('AUC score: ', result)"
   ]
  },
  {
   "cell_type": "code",
   "execution_count": 133,
   "id": "12464b94",
   "metadata": {},
   "outputs": [
    {
     "data": {
      "text/plain": [
       "[Text(181.8310344827586, 195.696, 'X[9] <= 0.5\\ngini = 0.469\\nsamples = 712\\nvalue = [444, 268]'),\n",
       " Text(92.35862068965517, 152.208, 'X[4] <= 0.5\\ngini = 0.426\\nsamples = 293\\nvalue = [90, 203]'),\n",
       " Text(46.179310344827584, 108.72, 'X[11] <= 0.5\\ngini = 0.185\\nsamples = 155\\nvalue = [16, 139]'),\n",
       " Text(23.089655172413792, 65.232, 'X[5] <= 0.5\\ngini = 0.07\\nsamples = 138\\nvalue = [5, 133]'),\n",
       " Text(11.544827586206896, 21.744, 'gini = 0.075\\nsamples = 128\\nvalue = [5, 123]'),\n",
       " Text(34.63448275862069, 21.744, 'gini = 0.0\\nsamples = 10\\nvalue = [0, 10]'),\n",
       " Text(69.26896551724138, 65.232, 'X[3] <= 0.5\\ngini = 0.457\\nsamples = 17\\nvalue = [11, 6]'),\n",
       " Text(57.72413793103448, 21.744, 'gini = 0.496\\nsamples = 11\\nvalue = [5, 6]'),\n",
       " Text(80.81379310344828, 21.744, 'gini = 0.0\\nsamples = 6\\nvalue = [6, 0]'),\n",
       " Text(138.53793103448277, 108.72, 'X[2] <= 2.5\\ngini = 0.497\\nsamples = 138\\nvalue = [74, 64]'),\n",
       " Text(115.44827586206895, 65.232, 'X[7] <= 0.5\\ngini = 0.497\\nsamples = 115\\nvalue = [53, 62]'),\n",
       " Text(103.90344827586206, 21.744, 'gini = 0.444\\nsamples = 45\\nvalue = [15, 30]'),\n",
       " Text(126.99310344827586, 21.744, 'gini = 0.496\\nsamples = 70\\nvalue = [38, 32]'),\n",
       " Text(161.62758620689655, 65.232, 'X[1] <= 0.5\\ngini = 0.159\\nsamples = 23\\nvalue = [21, 2]'),\n",
       " Text(150.08275862068965, 21.744, 'gini = 0.231\\nsamples = 15\\nvalue = [13, 2]'),\n",
       " Text(173.17241379310343, 21.744, 'gini = 0.0\\nsamples = 8\\nvalue = [8, 0]'),\n",
       " Text(271.3034482758621, 152.208, 'X[2] <= 2.5\\ngini = 0.262\\nsamples = 419\\nvalue = [354, 65]'),\n",
       " Text(230.8965517241379, 108.72, 'X[4] <= 0.5\\ngini = 0.228\\nsamples = 350\\nvalue = [304, 46]'),\n",
       " Text(207.80689655172412, 65.232, 'X[3] <= 0.5\\ngini = 0.291\\nsamples = 102\\nvalue = [84, 18]'),\n",
       " Text(196.26206896551724, 21.744, 'gini = 0.451\\nsamples = 32\\nvalue = [21, 11]'),\n",
       " Text(219.35172413793103, 21.744, 'gini = 0.18\\nsamples = 70\\nvalue = [63, 7]'),\n",
       " Text(253.98620689655172, 65.232, 'X[1] <= 1.5\\ngini = 0.2\\nsamples = 248\\nvalue = [220, 28]'),\n",
       " Text(242.44137931034481, 21.744, 'gini = 0.214\\nsamples = 222\\nvalue = [195, 27]'),\n",
       " Text(265.5310344827586, 21.744, 'gini = 0.074\\nsamples = 26\\nvalue = [25, 1]'),\n",
       " Text(311.7103448275862, 108.72, 'X[3] <= 0.5\\ngini = 0.399\\nsamples = 69\\nvalue = [50, 19]'),\n",
       " Text(300.1655172413793, 65.232, 'X[1] <= 1.5\\ngini = 0.425\\nsamples = 62\\nvalue = [43, 19]'),\n",
       " Text(288.6206896551724, 21.744, 'gini = 0.478\\nsamples = 38\\nvalue = [23, 15]'),\n",
       " Text(311.7103448275862, 21.744, 'gini = 0.278\\nsamples = 24\\nvalue = [20, 4]'),\n",
       " Text(323.2551724137931, 65.232, 'gini = 0.0\\nsamples = 7\\nvalue = [7, 0]')]"
      ]
     },
     "execution_count": 133,
     "metadata": {},
     "output_type": "execute_result"
    },
    {
     "data": {
      "image/png": "[encoded data removed]",
      "text/plain": [
       "<Figure size 432x288 with 1 Axes>"
      ]
     },
     "metadata": {
      "needs_background": "light"
     },
     "output_type": "display_data"
    }
   ],
   "source": [
    "#visualizing tree structure\n",
    "tree.plot_tree(decisiontree_depth_4 )"
   ]
  },
  {
   "cell_type": "markdown",
   "id": "e1e004dc",
   "metadata": {},
   "source": [
    "#### . TUNING MIN SAMPLES SPLIT"
   ]
  },
  {
   "cell_type": "code",
   "execution_count": 79,
   "id": "93faf26c",
   "metadata": {},
   "outputs": [
    {
     "data": {
      "image/png": "[encoded data removed]",
      "text/plain": [
       "<Figure size 432x288 with 1 Axes>"
      ]
     },
     "metadata": {
      "needs_background": "light"
     },
     "output_type": "display_data"
    }
   ],
   "source": [
    "min_samples_splits=np.linspace(0.05,0.4,8) #creating list of values to check\n",
    "list_auc_train=[] #list to store results for train dataset \n",
    "list_auc_test=[] #list to store results for test dataset\n",
    "\n",
    "#creating model and check result for each value of min samples split\n",
    "for min_samples_split in min_samples_splits:\n",
    "    decisiontree=DecisionTreeClassifier(min_samples_split=min_samples_split)\n",
    "    decisiontree.fit(X_train,y_train)\n",
    "    auc_train=prediction_auc(X_train,y_train)\n",
    "    list_auc_train.append(auc_train)\n",
    "    \n",
    "    auc_test=prediction_auc(X_test,y_test)\n",
    "    list_auc_test.append(auc_test)\n",
    "\n",
    "#plotting results    \n",
    "plotting(min_samples_splits, 'min samples split', list_auc_train, list_auc_test)"
   ]
  },
  {
   "cell_type": "code",
   "execution_count": 137,
   "id": "9d87f31e",
   "metadata": {},
   "outputs": [
    {
     "name": "stdout",
     "output_type": "stream",
     "text": [
      "AUC score:  0.7902187902187902\n"
     ]
    },
    {
     "data": {
      "text/plain": [
       "[Text(196.94117647058823, 205.35999999999999, 'X[9] <= 0.5\\ngini = 0.469\\nsamples = 712\\nvalue = [444, 268]'),\n",
       " Text(118.16470588235295, 181.2, 'X[4] <= 0.5\\ngini = 0.426\\nsamples = 293\\nvalue = [90, 203]'),\n",
       " Text(78.7764705882353, 157.04, 'X[11] <= 0.5\\ngini = 0.185\\nsamples = 155\\nvalue = [16, 139]'),\n",
       " Text(59.082352941176474, 132.88, 'X[5] <= 0.5\\ngini = 0.07\\nsamples = 138\\nvalue = [5, 133]'),\n",
       " Text(39.38823529411765, 108.72, 'X[2] <= 2.5\\ngini = 0.075\\nsamples = 128\\nvalue = [5, 123]'),\n",
       " Text(19.694117647058825, 84.56, 'gini = 0.097\\nsamples = 59\\nvalue = [3, 56]'),\n",
       " Text(59.082352941176474, 84.56, 'gini = 0.056\\nsamples = 69\\nvalue = [2, 67]'),\n",
       " Text(78.7764705882353, 108.72, 'gini = 0.0\\nsamples = 10\\nvalue = [0, 10]'),\n",
       " Text(98.47058823529412, 132.88, 'gini = 0.457\\nsamples = 17\\nvalue = [11, 6]'),\n",
       " Text(157.5529411764706, 157.04, 'X[2] <= 2.5\\ngini = 0.497\\nsamples = 138\\nvalue = [74, 64]'),\n",
       " Text(137.85882352941178, 132.88, 'X[7] <= 0.5\\ngini = 0.497\\nsamples = 115\\nvalue = [53, 62]'),\n",
       " Text(118.16470588235295, 108.72, 'gini = 0.444\\nsamples = 45\\nvalue = [15, 30]'),\n",
       " Text(157.5529411764706, 108.72, 'gini = 0.496\\nsamples = 70\\nvalue = [38, 32]'),\n",
       " Text(177.24705882352941, 132.88, 'gini = 0.159\\nsamples = 23\\nvalue = [21, 2]'),\n",
       " Text(275.71764705882356, 181.2, 'X[2] <= 2.5\\ngini = 0.262\\nsamples = 419\\nvalue = [354, 65]'),\n",
       " Text(256.02352941176474, 157.04, 'X[4] <= 0.5\\ngini = 0.228\\nsamples = 350\\nvalue = [304, 46]'),\n",
       " Text(216.63529411764708, 132.88, 'X[3] <= 0.5\\ngini = 0.291\\nsamples = 102\\nvalue = [84, 18]'),\n",
       " Text(196.94117647058823, 108.72, 'gini = 0.451\\nsamples = 32\\nvalue = [21, 11]'),\n",
       " Text(236.3294117647059, 108.72, 'gini = 0.18\\nsamples = 70\\nvalue = [63, 7]'),\n",
       " Text(295.4117647058824, 132.88, 'X[1] <= 1.5\\ngini = 0.2\\nsamples = 248\\nvalue = [220, 28]'),\n",
       " Text(275.71764705882356, 108.72, 'X[7] <= 0.5\\ngini = 0.214\\nsamples = 222\\nvalue = [195, 27]'),\n",
       " Text(256.02352941176474, 84.56, 'gini = 0.259\\nsamples = 59\\nvalue = [50, 9]'),\n",
       " Text(295.4117647058824, 84.56, 'X[2] <= 1.5\\ngini = 0.196\\nsamples = 163\\nvalue = [145, 18]'),\n",
       " Text(275.71764705882356, 60.400000000000006, 'X[2] <= 0.5\\ngini = 0.223\\nsamples = 141\\nvalue = [123, 18]'),\n",
       " Text(256.02352941176474, 36.24000000000001, 'X[1] <= 0.5\\ngini = 0.193\\nsamples = 74\\nvalue = [66, 8]'),\n",
       " Text(236.3294117647059, 12.079999999999984, 'gini = 0.0\\nsamples = 14\\nvalue = [14, 0]'),\n",
       " Text(275.71764705882356, 12.079999999999984, 'gini = 0.231\\nsamples = 60\\nvalue = [52, 8]'),\n",
       " Text(295.4117647058824, 36.24000000000001, 'gini = 0.254\\nsamples = 67\\nvalue = [57, 10]'),\n",
       " Text(315.1058823529412, 60.400000000000006, 'gini = 0.0\\nsamples = 22\\nvalue = [22, 0]'),\n",
       " Text(315.1058823529412, 108.72, 'gini = 0.074\\nsamples = 26\\nvalue = [25, 1]'),\n",
       " Text(295.4117647058824, 157.04, 'gini = 0.399\\nsamples = 69\\nvalue = [50, 19]')]"
      ]
     },
     "execution_count": 137,
     "metadata": {},
     "output_type": "execute_result"
    },
    {
     "data": {
      "image/png": "[encoded data removed]",
      "text/plain": [
       "<Figure size 432x288 with 1 Axes>"
      ]
     },
     "metadata": {
      "needs_background": "light"
     },
     "output_type": "display_data"
    }
   ],
   "source": [
    "#building tree with min samples split=0.1 and visualizing its structure\n",
    "decisiontree_split_01=DecisionTreeClassifier(min_samples_split=0.1)\n",
    "decisiontree_split_01.fit(X_train,y_train)\n",
    "y_pred=decisiontree_split_01.predict(X_test)\n",
    "false_positive_rate, true_positive_rate, thresholds = roc_curve(y_test, y_pred)\n",
    "result = auc(false_positive_rate, true_positive_rate)\n",
    "print('AUC score: ', result)\n",
    "tree.plot_tree(decisiontree_split_01)"
   ]
  },
  {
   "cell_type": "code",
   "execution_count": null,
   "id": "abf6771a",
   "metadata": {},
   "outputs": [],
   "source": []
  },
  {
   "cell_type": "markdown",
   "id": "3c52e738",
   "metadata": {},
   "source": [
    "#### . TUNING MIN SAMPLES LEAF"
   ]
  },
  {
   "cell_type": "code",
   "execution_count": 81,
   "id": "c641cfe1",
   "metadata": {},
   "outputs": [
    {
     "data": {
      "image/png": "[encoded data removed]",
      "text/plain": [
       "<Figure size 432x288 with 1 Axes>"
      ]
     },
     "metadata": {
      "needs_background": "light"
     },
     "output_type": "display_data"
    }
   ],
   "source": [
    "min_samples_leafs = np.linspace(0.1, 0.5, 5, endpoint=True) #creating list of values to check\n",
    "list_auc_train=[] #list to store results for train dataset \n",
    "list_auc_test=[] #list to store results for test dataset\n",
    "\n",
    "#creating model and check result for each value of min samples leaf\n",
    "for min_samples_leaf in min_samples_leafs:\n",
    "    decisiontree=DecisionTreeClassifier(min_samples_leaf=min_samples_leaf)\n",
    "    decisiontree.fit(X_train,y_train)\n",
    "    auc_train=prediction_auc(X_train,y_train)\n",
    "    list_auc_train.append(auc_train)\n",
    "    \n",
    "    auc_test=prediction_auc(X_test,y_test)\n",
    "    list_auc_test.append(auc_test)\n",
    "\n",
    "#plotting results    \n",
    "plotting(min_samples_leafs, 'min samples leaf', list_auc_train, list_auc_test)"
   ]
  },
  {
   "cell_type": "code",
   "execution_count": 139,
   "id": "1a8e08ce",
   "metadata": {},
   "outputs": [
    {
     "name": "stdout",
     "output_type": "stream",
     "text": [
      "AUC score:  0.7823680823680824\n"
     ]
    },
    {
     "data": {
      "text/plain": [
       "[Text(167.4, 181.2, 'X[9] <= 0.5\\ngini = 0.469\\nsamples = 712\\nvalue = [444, 268]'),\n",
       " Text(83.7, 108.72, 'X[8] <= 0.5\\ngini = 0.426\\nsamples = 293\\nvalue = [90, 203]'),\n",
       " Text(41.85, 36.23999999999998, 'gini = 0.408\\nsamples = 147\\nvalue = [42, 105]'),\n",
       " Text(125.55000000000001, 36.23999999999998, 'gini = 0.441\\nsamples = 146\\nvalue = [48, 98]'),\n",
       " Text(251.10000000000002, 108.72, 'X[2] <= 1.5\\ngini = 0.262\\nsamples = 419\\nvalue = [354, 65]'),\n",
       " Text(209.25, 36.23999999999998, 'gini = 0.208\\nsamples = 263\\nvalue = [232, 31]'),\n",
       " Text(292.95, 36.23999999999998, 'gini = 0.341\\nsamples = 156\\nvalue = [122, 34]')]"
      ]
     },
     "execution_count": 139,
     "metadata": {},
     "output_type": "execute_result"
    },
    {
     "data": {
      "image/png": "[encoded data removed]",
      "text/plain": [
       "<Figure size 432x288 with 1 Axes>"
      ]
     },
     "metadata": {
      "needs_background": "light"
     },
     "output_type": "display_data"
    }
   ],
   "source": [
    "#building tree with min samples leaf=0.2 and visualizing its structure\n",
    "decisiontree_leaf_02=DecisionTreeClassifier(min_samples_leaf=0.2)\n",
    "decisiontree_leaf_02.fit(X_train,y_train)\n",
    "y_pred=decisiontree_leaf_02.predict(X_test)\n",
    "false_positive_rate, true_positive_rate, thresholds = roc_curve(y_test, y_pred)\n",
    "result = auc(false_positive_rate, true_positive_rate)\n",
    "print('AUC score: ', result)\n",
    "tree.plot_tree(decisiontree_leaf_02)"
   ]
  },
  {
   "cell_type": "markdown",
   "id": "62d5c7ab",
   "metadata": {},
   "source": [
    "# . BUILDING AND EVALUATING RANDOM FOREST"
   ]
  },
  {
   "cell_type": "code",
   "execution_count": 83,
   "id": "065e52d5",
   "metadata": {},
   "outputs": [
    {
     "name": "stdout",
     "output_type": "stream",
     "text": [
      "Best estimator {'n_estimators': 15}\n"
     ]
    }
   ],
   "source": [
    "#Random Forest\n",
    "randomforest=RandomForestClassifier() #initializing model\n",
    "ne = np.arange(1,20) \n",
    "param_grid = {'n_estimators' : ne} #parameters grid\n",
    "\n",
    "rf_cv = GridSearchCV(randomforest, param_grid=param_grid, cv=5) #performing gridsearchcv\n",
    "rf_cv.fit(X, y)\n",
    "print('Best estimator', rf_cv.best_params_)"
   ]
  },
  {
   "cell_type": "code",
   "execution_count": 84,
   "id": "45931e6f",
   "metadata": {},
   "outputs": [
    {
     "name": "stdout",
     "output_type": "stream",
     "text": [
      "Best estimator {'n_estimators': 10}\n"
     ]
    }
   ],
   "source": [
    "#Random Forest\n",
    "randomforest=RandomForestClassifier() #initializing model\n",
    "ne = np.arange(1,20) \n",
    "param_grid = {'n_estimators' : ne} #parameters grid\n",
    "\n",
    "rf_cv = GridSearchCV(randomforest, param_grid=param_grid, cv=5) #performing gridsearchcv\n",
    "rf_cv.fit(X, y)\n",
    "print('Best estimator', rf_cv.best_params_)"
   ]
  },
  {
   "cell_type": "code",
   "execution_count": null,
   "id": "4915c124",
   "metadata": {},
   "outputs": [],
   "source": []
  },
  {
   "cell_type": "code",
   "execution_count": 141,
   "id": "22c28e9a",
   "metadata": {},
   "outputs": [
    {
     "name": "stdout",
     "output_type": "stream",
     "text": [
      "AUC score:  0.7823680823680824\n"
     ]
    }
   ],
   "source": [
    "#building tree with min samples leaf=0.2 and visualizing its structure\n",
    "decisiontree_leaf_02=DecisionTreeClassifier(min_samples_leaf=0.2)\n",
    "decisiontree_leaf_02.fit(X_train,y_train)\n",
    "y_pred=decisiontree_leaf_02.predict(X_test)\n",
    "false_positive_rate, true_positive_rate, thresholds = roc_curve(y_test, y_pred)\n",
    "result = auc(false_positive_rate, true_positive_rate)\n",
    "print('AUC score: ', result)\n"
   ]
  },
  {
   "cell_type": "code",
   "execution_count": null,
   "id": "43a75f30",
   "metadata": {},
   "outputs": [],
   "source": []
  }
 ],
 "metadata": {
  "kernelspec": {
   "display_name": "Python 3",
   "language": "python",
   "name": "python3"
  },
  "language_info": {
   "codemirror_mode": {
    "name": "ipython",
    "version": 3
   },
   "file_extension": ".py",
   "mimetype": "text/x-python",
   "name": "python",
   "nbconvert_exporter": "python",
   "pygments_lexer": "ipython3",
   "version": "3.8.8"
  }
 },
 "nbformat": 4,
 "nbformat_minor": 5
}
